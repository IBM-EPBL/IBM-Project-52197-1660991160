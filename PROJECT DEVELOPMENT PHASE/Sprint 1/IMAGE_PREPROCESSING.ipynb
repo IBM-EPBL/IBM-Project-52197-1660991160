{
  "nbformat": 4,
  "nbformat_minor": 0,
  "metadata": {
    "colab": {
      "provenance": []
    },
    "kernelspec": {
      "name": "python3",
      "display_name": "Python 3"
    },
    "language_info": {
      "name": "python"
    }
  },
  "cells": [
    {
      "cell_type": "markdown",
      "source": [
        "Team ID : PNT2022TMID29450"
      ],
      "metadata": {
        "id": "XlLyCtK58w8b"
      }
    },
    {
      "cell_type": "markdown",
      "source": [
        "Project Title : A Gesture-based Tool for Sterile Browsing of Radiology Images."
      ],
      "metadata": {
        "id": "Nymetx3Y-kwZ"
      }
    },
    {
      "cell_type": "markdown",
      "source": [
        "IMAGE PREPROCESSING"
      ],
      "metadata": {
        "id": "fwDn3fld8mCV"
      }
    },
    {
      "cell_type": "code",
      "source": [
        "from google.colab import drive\n",
        "drive.mount('/content/drive')"
      ],
      "metadata": {
        "colab": {
          "base_uri": "https://localhost:8080/"
        },
        "id": "Us4Ek6pd5Z8G",
        "outputId": "4693e5be-ab6d-48dd-8478-b97cb12dc308"
      },
      "execution_count": 40,
      "outputs": [
        {
          "output_type": "stream",
          "name": "stdout",
          "text": [
            "Drive already mounted at /content/drive; to attempt to forcibly remount, call drive.mount(\"/content/drive\", force_remount=True).\n"
          ]
        }
      ]
    },
    {
      "cell_type": "code",
      "source": [
        "from tensorflow.keras.preprocessing.image import ImageDataGenerator"
      ],
      "metadata": {
        "id": "HUnLppgO5rAR"
      },
      "execution_count": 41,
      "outputs": []
    },
    {
      "cell_type": "code",
      "source": [
        "train_data_generator1 = ImageDataGenerator(rescale=1.0/255,horizontal_flip=True)\n",
        "test_data_generator1 = ImageDataGenerator(rescale=1.0/255, horizontal_flip=True)"
      ],
      "metadata": {
        "id": "wNKqDuP75uwI"
      },
      "execution_count": 42,
      "outputs": []
    },
    {
      "cell_type": "code",
      "source": [
        "train_data_generator2 = ImageDataGenerator(rescale=1.0/255,rotation_range=90)\n",
        "test_data_generator2 = ImageDataGenerator(rescale=1.0/255,rotation_range=90)"
      ],
      "metadata": {
        "id": "bguYsZ6Q5wZj"
      },
      "execution_count": 43,
      "outputs": []
    },
    {
      "cell_type": "code",
      "source": [
        "train_data_generator3 = ImageDataGenerator(rescale=1.0/255,brightness_range=[0.2,1.0])\n",
        "test_data_generator3 = ImageDataGenerator(rescale=1.0/255,brightness_range=[0.2,1.0])\n",
        "train_data_generator4 = ImageDataGenerator(rescale=1.0/255,zoom_range=[0.5,1.0])\n",
        "test_data_generator4 = ImageDataGenerator(rescale=1.0/255,zoom_range=[0.5,1.0])\n"
      ],
      "metadata": {
        "id": "L2lpXp8g5zzE"
      },
      "execution_count": 46,
      "outputs": []
    },
    {
      "cell_type": "code",
      "source": [
        "trdata1 = train_data_generator1.flow_from_directory('/content/drive/MyDrive/train-20221106T023729Z-001/train',target_size=(64,64),batch_size=(3),color_mode='grayscale',class_mode='categorical')"
      ],
      "metadata": {
        "colab": {
          "base_uri": "https://localhost:8080/"
        },
        "id": "CZUTZkub7aU-",
        "outputId": "26769ff0-ff72-4c2e-fb26-eff6bb0db457"
      },
      "execution_count": 47,
      "outputs": [
        {
          "output_type": "stream",
          "name": "stdout",
          "text": [
            "Found 594 images belonging to 6 classes.\n"
          ]
        }
      ]
    },
    {
      "cell_type": "code",
      "source": [
        "trdata2 = train_data_generator2.flow_from_directory('/content/drive/MyDrive/train-20221106T023729Z-001/train',target_size=(64,64),batch_size=(3),color_mode='grayscale',class_mode='categorical')"
      ],
      "metadata": {
        "colab": {
          "base_uri": "https://localhost:8080/"
        },
        "id": "zTlFcyaE6jUQ",
        "outputId": "0cee1ffb-a716-4787-fb14-3d256401ccd8"
      },
      "execution_count": 48,
      "outputs": [
        {
          "output_type": "stream",
          "name": "stdout",
          "text": [
            "Found 594 images belonging to 6 classes.\n"
          ]
        }
      ]
    },
    {
      "cell_type": "code",
      "source": [
        "trdata3 = train_data_generator3.flow_from_directory('/content/drive/MyDrive/train-20221106T023729Z-001/train',target_size=(64,64),batch_size=(3),color_mode='grayscale',class_mode='categorical')"
      ],
      "metadata": {
        "colab": {
          "base_uri": "https://localhost:8080/"
        },
        "id": "PFTnmNIb6o4y",
        "outputId": "82d61bbe-626e-47f3-9274-248734b5bd82"
      },
      "execution_count": 49,
      "outputs": [
        {
          "output_type": "stream",
          "name": "stdout",
          "text": [
            "Found 594 images belonging to 6 classes.\n"
          ]
        }
      ]
    },
    {
      "cell_type": "code",
      "source": [
        "trdata4 = train_data_generator4.flow_from_directory('/content/drive/MyDrive/train-20221106T023729Z-001/train',target_size=(64,64),batch_size=(3),color_mode='grayscale',class_mode='categorical')"
      ],
      "metadata": {
        "colab": {
          "base_uri": "https://localhost:8080/"
        },
        "id": "kgmmRwLy6sfV",
        "outputId": "2d4b5ccd-1528-48ba-d606-ee29ab2aae6e"
      },
      "execution_count": 50,
      "outputs": [
        {
          "output_type": "stream",
          "name": "stdout",
          "text": [
            "Found 594 images belonging to 6 classes.\n"
          ]
        }
      ]
    },
    {
      "cell_type": "code",
      "source": [
        "tsdata1 = test_data_generator1.flow_from_directory('/content/drive/MyDrive/train-20221106T023729Z-001/train',target_size=(64,64),batch_size=32,class_mode='categorical',color_mode='grayscale')"
      ],
      "metadata": {
        "colab": {
          "base_uri": "https://localhost:8080/"
        },
        "id": "C1iyuAyp6xqb",
        "outputId": "de205295-84e5-413c-8df9-3dfd253d7875"
      },
      "execution_count": 51,
      "outputs": [
        {
          "output_type": "stream",
          "name": "stdout",
          "text": [
            "Found 594 images belonging to 6 classes.\n"
          ]
        }
      ]
    },
    {
      "cell_type": "code",
      "source": [
        "tsdata2 = test_data_generator2.flow_from_directory('/content/drive/MyDrive/test-20221106T023808Z-001/test',target_size=(64,64),batch_size=32,class_mode='categorical',color_mode='grayscale')"
      ],
      "metadata": {
        "colab": {
          "base_uri": "https://localhost:8080/"
        },
        "id": "tPkSh4kv62PK",
        "outputId": "13517305-7550-4a49-a8e7-ef502f30787d"
      },
      "execution_count": 52,
      "outputs": [
        {
          "output_type": "stream",
          "name": "stdout",
          "text": [
            "Found 30 images belonging to 6 classes.\n"
          ]
        }
      ]
    },
    {
      "cell_type": "code",
      "source": [
        "tsdata3 = test_data_generator3.flow_from_directory('/content/drive/MyDrive/test-20221106T023808Z-001/test',target_size=(64,64),batch_size=32,class_mode='categorical',color_mode='grayscale')"
      ],
      "metadata": {
        "colab": {
          "base_uri": "https://localhost:8080/"
        },
        "id": "5fVgfRVS6539",
        "outputId": "e70f11f5-e370-4f88-c8ae-e37690edf56b"
      },
      "execution_count": 53,
      "outputs": [
        {
          "output_type": "stream",
          "name": "stdout",
          "text": [
            "Found 30 images belonging to 6 classes.\n"
          ]
        }
      ]
    },
    {
      "cell_type": "code",
      "source": [
        "tsdata4 = test_data_generator4.flow_from_directory('/content/drive/MyDrive/test-20221106T023808Z-001/test',target_size=(64,64),batch_size=32,class_mode='categorical',color_mode='grayscale')"
      ],
      "metadata": {
        "colab": {
          "base_uri": "https://localhost:8080/"
        },
        "id": "nfW2KHRE69fw",
        "outputId": "5e4fd679-02b2-419c-82c0-4c3d2d9a0ce5"
      },
      "execution_count": 54,
      "outputs": [
        {
          "output_type": "stream",
          "name": "stdout",
          "text": [
            "Found 30 images belonging to 6 classes.\n"
          ]
        }
      ]
    },
    {
      "cell_type": "code",
      "source": [
        "print(trdata1.class_indices)"
      ],
      "metadata": {
        "colab": {
          "base_uri": "https://localhost:8080/"
        },
        "id": "rY78qLv_8AV8",
        "outputId": "656e8ac7-7122-4e6b-c817-8e253070c385"
      },
      "execution_count": 55,
      "outputs": [
        {
          "output_type": "stream",
          "name": "stdout",
          "text": [
            "{'0': 0, '1': 1, '2': 2, '3': 3, '4': 4, '5': 5}\n"
          ]
        }
      ]
    },
    {
      "cell_type": "code",
      "source": [
        "print(trdata2.class_indices)"
      ],
      "metadata": {
        "colab": {
          "base_uri": "https://localhost:8080/"
        },
        "id": "AoS0JJZj8Gbz",
        "outputId": "6c23345c-c959-4946-9a50-b4bacd19be11"
      },
      "execution_count": 56,
      "outputs": [
        {
          "output_type": "stream",
          "name": "stdout",
          "text": [
            "{'0': 0, '1': 1, '2': 2, '3': 3, '4': 4, '5': 5}\n"
          ]
        }
      ]
    },
    {
      "cell_type": "code",
      "source": [
        "print(trdata3.class_indices)"
      ],
      "metadata": {
        "colab": {
          "base_uri": "https://localhost:8080/"
        },
        "id": "m4dOcYMt8Ian",
        "outputId": "cc465031-1552-451d-f2a6-9ceacf77af5c"
      },
      "execution_count": 57,
      "outputs": [
        {
          "output_type": "stream",
          "name": "stdout",
          "text": [
            "{'0': 0, '1': 1, '2': 2, '3': 3, '4': 4, '5': 5}\n"
          ]
        }
      ]
    },
    {
      "cell_type": "code",
      "source": [
        "print(trdata4.class_indices)"
      ],
      "metadata": {
        "colab": {
          "base_uri": "https://localhost:8080/"
        },
        "id": "oyfmZBSl8Iyt",
        "outputId": "5198cdb6-3c08-4166-fac8-e03146fe7e0f"
      },
      "execution_count": 58,
      "outputs": [
        {
          "output_type": "stream",
          "name": "stdout",
          "text": [
            "{'0': 0, '1': 1, '2': 2, '3': 3, '4': 4, '5': 5}\n"
          ]
        }
      ]
    },
    {
      "cell_type": "code",
      "source": [
        "print(tsdata1.class_indices)"
      ],
      "metadata": {
        "colab": {
          "base_uri": "https://localhost:8080/"
        },
        "id": "sO7XpoY48Urw",
        "outputId": "93b359d5-3cfa-4487-c9b1-388069d1ddbd"
      },
      "execution_count": 59,
      "outputs": [
        {
          "output_type": "stream",
          "name": "stdout",
          "text": [
            "{'0': 0, '1': 1, '2': 2, '3': 3, '4': 4, '5': 5}\n"
          ]
        }
      ]
    },
    {
      "cell_type": "code",
      "source": [
        "print(tsdata2.class_indices)"
      ],
      "metadata": {
        "colab": {
          "base_uri": "https://localhost:8080/"
        },
        "id": "BtPpU4VM8VH-",
        "outputId": "c8cb8a09-ef48-416e-8201-7013ae19b8e1"
      },
      "execution_count": 61,
      "outputs": [
        {
          "output_type": "stream",
          "name": "stdout",
          "text": [
            "{'0': 0, '1': 1, '2': 2, '3': 3, '4': 4, '5': 5}\n"
          ]
        }
      ]
    },
    {
      "cell_type": "code",
      "source": [
        "print(tsdata3.class_indices)"
      ],
      "metadata": {
        "colab": {
          "base_uri": "https://localhost:8080/"
        },
        "id": "7ovVaVJj8YAS",
        "outputId": "64a0fbf1-36d6-4f63-9409-b7b892537eeb"
      },
      "execution_count": 62,
      "outputs": [
        {
          "output_type": "stream",
          "name": "stdout",
          "text": [
            "{'0': 0, '1': 1, '2': 2, '3': 3, '4': 4, '5': 5}\n"
          ]
        }
      ]
    },
    {
      "cell_type": "code",
      "source": [
        "print(tsdata4.class_indices)"
      ],
      "metadata": {
        "colab": {
          "base_uri": "https://localhost:8080/"
        },
        "id": "eCbU0j1_8YxQ",
        "outputId": "c954c7a5-92a6-41e8-cca7-6854d3bb4c5c"
      },
      "execution_count": 63,
      "outputs": [
        {
          "output_type": "stream",
          "name": "stdout",
          "text": [
            "{'0': 0, '1': 1, '2': 2, '3': 3, '4': 4, '5': 5}\n"
          ]
        }
      ]
    }
  ]
}